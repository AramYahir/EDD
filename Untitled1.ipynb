{
  "nbformat": 4,
  "nbformat_minor": 0,
  "metadata": {
    "colab": {
      "name": "Untitled1.ipynb",
      "provenance": [],
      "history_visible": true
    },
    "kernelspec": {
      "name": "python3",
      "display_name": "Python 3"
    },
    "language_info": {
      "name": "python"
    }
  },
  "cells": [
    {
      "cell_type": "code",
      "metadata": {
        "id": "Axsx-4w8TFP5"
      },
      "source": [
        "class Nodo:\n",
        "  def __init__(self, value , siguiente=None):\n",
        "    self.data= value\n",
        "    self.next= siguiente"
      ],
      "execution_count": 5,
      "outputs": []
    },
    {
      "cell_type": "code",
      "metadata": {
        "colab": {
          "base_uri": "https://localhost:8080/"
        },
        "id": "gsMp3VoSV6NX",
        "outputId": "61fc0be3-3164-41dd-8ebf-035bd2621f2a"
      },
      "source": [
        "head2 = Nodo(20)\n",
        "head2.next = Nodo(15)\n",
        "print(head2.next.data)\n",
        "print(head2.data.next)\n",
        "\n",
        "\n",
        "print(head2.data)\n",
        "print(head2.next)"
      ],
      "execution_count": 6,
      "outputs": [
        {
          "output_type": "stream",
          "name": "stdout",
          "text": [
            "30\n"
          ]
        }
      ]
    },
    {
      "cell_type": "code",
      "metadata": {
        "colab": {
          "base_uri": "https://localhost:8080/"
        },
        "id": "YyoLglEIZZZy",
        "outputId": "a2e6a508-6597-42f0-d838-94aa83f32ae8"
      },
      "source": [
        "punto_entrada = Nodo(20)\n",
        "punto_entrada.next = Nodo(15)\n",
        "\n",
        "print(punto_entrada.data)\n",
        "print( punto_entrada.next.data)\n",
        "\n",
        "print( \"Lo mismo pero con el metodo 2\")\n",
        "\n",
        "punto_entrada = Nodo(20, Nodo(15) )\n",
        "\n",
        "print(punto_entrada.data)\n",
        "print( punto_entrada.next.data)\n"
      ],
      "execution_count": 7,
      "outputs": [
        {
          "output_type": "stream",
          "name": "stdout",
          "text": [
            "20\n",
            "15\n",
            "Lo mismo pero con el metodo 2\n",
            "20\n",
            "15\n"
          ]
        }
      ]
    }
  ]
}